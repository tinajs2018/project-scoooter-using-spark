{
 "cells": [
  {
   "cell_type": "code",
   "execution_count": 1,
   "id": "87642dc4-f163-4ceb-a528-08829cc4df14",
   "metadata": {},
   "outputs": [],
   "source": [
    "#imitialization of the pyspark\n",
    "import findspark\n",
    "findspark.init()\n",
    "import pyspark\n",
    "\n",
    "from pyspark.sql import SparkSession\n",
    "from pyspark.sql.functions import *"
   ]
  },
  {
   "cell_type": "code",
   "execution_count": 2,
   "id": "f3a44752-4557-46b1-b13a-55294dc27abb",
   "metadata": {},
   "outputs": [
    {
     "name": "stderr",
     "output_type": "stream",
     "text": [
      "24/07/18 18:12:40 WARN Utils: Your hostname, hp resolves to a loopback address: 127.0.1.1; using 192.168.100.4 instead (on interface wlp2s0)\n",
      "24/07/18 18:12:40 WARN Utils: Set SPARK_LOCAL_IP if you need to bind to another address\n",
      "Using Spark's default log4j profile: org/apache/spark/log4j-defaults.properties\n",
      "Setting default log level to \"WARN\".\n",
      "To adjust logging level use sc.setLogLevel(newLevel). For SparkR, use setLogLevel(newLevel).\n",
      "24/07/18 18:12:41 WARN NativeCodeLoader: Unable to load native-hadoop library for your platform... using builtin-java classes where applicable\n",
      "24/07/18 18:12:42 WARN Utils: Service 'SparkUI' could not bind on port 4040. Attempting port 4041.\n"
     ]
    }
   ],
   "source": [
    "#creating the psark session\n",
    "spark =SparkSession.builder.appName(\"datanalysis\").getOrCreate()"
   ]
  },
  {
   "cell_type": "code",
   "execution_count": 3,
   "id": "27d8d373-caa6-4c13-a17b-e64df21087a5",
   "metadata": {},
   "outputs": [],
   "source": [
    "csvfile =\"/home/christine/Downloads/scooter.csv\""
   ]
  },
  {
   "cell_type": "code",
   "execution_count": 5,
   "id": "159d2b43-e05a-47a5-bea7-60a1233b94e3",
   "metadata": {},
   "outputs": [
    {
     "name": "stdout",
     "output_type": "stream",
     "text": [
      "+-----+-------+---------+----------+---------------+---------------+--------+--------------------+--------------------+--------+--------------+\n",
      "|month|trip_id|region_id|vehicle_id|     started_at|       ended_at|DURATION| start_location_name|   end_location_name| user_id|trip_ledger_id|\n",
      "+-----+-------+---------+----------+---------------+---------------+--------+--------------------+--------------------+--------+--------------+\n",
      "|  May|1613335|      202|   9424537|5/21/2019 18:33|5/21/2019 18:40| 0:07:03|1901 Roma Ave NE,...|1899 Roma Ave NE,...| 8417864|       1488546|\n",
      "|  May|1613639|      202|   9424537|5/21/2019 19:07|5/21/2019 19:12| 0:04:57|1 Domenici Center...|1111 Stanford Dr ...| 8417864|       1488838|\n",
      "|  May|1613708|      202|   9424537|5/21/2019 19:13|5/21/2019 19:15| 0:01:14|1 Domenici Center...|1 Domenici Center...| 8417864|       1488851|\n",
      "|  May|1613867|      202|   9424537|5/21/2019 19:29|5/21/2019 19:36| 0:06:58|Rotunda at Scienc...|725 University Bl...| 8417864|       1489064|\n",
      "|  May|1636714|      202|   8926493|5/24/2019 13:38|5/24/2019 13:41| 0:03:06|401 2nd St NW, Al...|401 2nd St NW, Al...|35436274|       1511212|\n",
      "|  May|1636780|      202|   3902020|5/24/2019 13:52|5/24/2019 14:13| 0:21:27|520 Central Ave S...|3217 Pershing Ave...|34352757|       1511371|\n",
      "|  May|1636856|      202|   5192526|5/24/2019 14:04|5/24/2019 14:34| 0:30:43|330 Tijeras Ave N...|809 Copper Ave NW...|35466666|       1511483|\n",
      "|  May|1636912|      202|   3902020|5/24/2019 14:14|5/24/2019 14:15| 0:01:05|3217 Pershing Ave...|802 Wellesley Dr ...|34352757|       1511390|\n",
      "|  May|1637035|      202|   5192526|5/24/2019 14:37|5/24/2019 14:43| 0:05:33|809 Copper Ave NW...|809 Copper Ave NW...|35466666|       1511516|\n",
      "|  May|1637036|      202|   9885684|5/24/2019 14:38|5/24/2019 15:09| 0:31:54|2901 Central Ave ...|2000 Zearing Ave ...|34352757|       1511666|\n",
      "|  May|1637075|      202|   5192526|5/24/2019 14:45|5/24/2019 14:48| 0:03:34|809 Copper Ave NW...|809 Copper Ave NW...|35466666|       1511544|\n",
      "|  May|1637120|      202|   5192526|5/24/2019 14:52|5/24/2019 14:58| 0:05:40|809 Copper Ave NW...|809 Copper Ave NW...|35466666|       1511610|\n",
      "|  May|1637212|      202|   3203954|5/24/2019 15:05|5/24/2019 15:21| 0:16:37|423 Central Ave N...|512 Central Ave S...|35490582|       1511765|\n",
      "|  May|1637299|      202|   3027855|5/24/2019 15:16|5/24/2019 15:36| 0:20:12|1898 Mountain Rd ...|824 Stover Ave SW...|34352757|       1511876|\n",
      "|  May|1637378|      202|   4335950|5/24/2019 15:27|5/24/2019 15:31| 0:03:51|400 Marquette Ave...|5th @ Marquette, ...|35493806|       1511834|\n",
      "|  May|1637409|      202|   4011047|5/24/2019 15:31|5/24/2019 15:33| 0:02:03|101 State Hwy 313...|400 Gold Ave SW, ...|31624602|       1511854|\n",
      "|  May|1637414|      202|   7044335|5/24/2019 15:32|5/24/2019 15:33| 0:01:10|400 Marquette Ave...|5th @ Marquette, ...|35493806|       1511847|\n",
      "|  May|1637455|      202|   7939544|5/24/2019 15:36|5/24/2019 15:55| 0:19:03|401 3rd St NW, Al...|220 Gold Ave SW, ...|35495918|       1512023|\n",
      "|  May|1637468|      202|   8926493|5/24/2019 15:38|5/24/2019 15:52| 0:14:20|401 2nd St NW, Al...|224 Gold Ave SW, ...|35492487|       1511996|\n",
      "|  May|1637528|      202|   6893735|5/24/2019 15:45|5/24/2019 15:49| 0:04:03|301 Central Ave N...|411 Central Ave N...|35498655|       1511970|\n",
      "+-----+-------+---------+----------+---------------+---------------+--------+--------------------+--------------------+--------+--------------+\n",
      "only showing top 20 rows\n",
      "\n"
     ]
    }
   ],
   "source": [
    "#creating a dataframe\n",
    "df=spark.read\\\n",
    "   .format(\"csv\")\\\n",
    "   .option(\"inferschema\" ,True)\\\n",
    "   .option(\"header\",True)\\\n",
    "   .load(csvfile)\n",
    "\n",
    "df.show()"
   ]
  },
  {
   "cell_type": "code",
   "execution_count": 6,
   "id": "a36958ca-c1be-498f-9c26-fadb283fe8f4",
   "metadata": {},
   "outputs": [],
   "source": [
    "#creatin a temp view\n",
    "\n",
    "df.createOrReplaceTempView(\"u\")"
   ]
  },
  {
   "cell_type": "code",
   "execution_count": 7,
   "id": "2deed1df-34ad-47b6-9562-28c353b6df84",
   "metadata": {},
   "outputs": [
    {
     "name": "stdout",
     "output_type": "stream",
     "text": [
      "root\n",
      " |-- month: string (nullable = true)\n",
      " |-- trip_id: integer (nullable = true)\n",
      " |-- region_id: integer (nullable = true)\n",
      " |-- vehicle_id: integer (nullable = true)\n",
      " |-- started_at: string (nullable = true)\n",
      " |-- ended_at: string (nullable = true)\n",
      " |-- DURATION: string (nullable = true)\n",
      " |-- start_location_name: string (nullable = true)\n",
      " |-- end_location_name: string (nullable = true)\n",
      " |-- user_id: integer (nullable = true)\n",
      " |-- trip_ledger_id: integer (nullable = true)\n",
      "\n"
     ]
    }
   ],
   "source": [
    "df.printSchema()"
   ]
  },
  {
   "cell_type": "code",
   "execution_count": 8,
   "id": "088ddd03-d86e-4657-b9fa-6fcc3a351e00",
   "metadata": {},
   "outputs": [
    {
     "data": {
      "text/plain": [
       "['month',\n",
       " 'trip_id',\n",
       " 'region_id',\n",
       " 'vehicle_id',\n",
       " 'started_at',\n",
       " 'ended_at',\n",
       " 'DURATION',\n",
       " 'start_location_name',\n",
       " 'end_location_name',\n",
       " 'user_id',\n",
       " 'trip_ledger_id']"
      ]
     },
     "execution_count": 8,
     "metadata": {},
     "output_type": "execute_result"
    }
   ],
   "source": [
    "df.columns"
   ]
  },
  {
   "cell_type": "code",
   "execution_count": 9,
   "id": "b0efcfec-7339-4c40-b974-6e9bd57f06c0",
   "metadata": {},
   "outputs": [],
   "source": [
    "data = spark.sql (\"select * from u\")\n"
   ]
  },
  {
   "cell_type": "code",
   "execution_count": 11,
   "id": "273f70af-9e73-4517-aefe-6dccd7c44dea",
   "metadata": {},
   "outputs": [
    {
     "name": "stderr",
     "output_type": "stream",
     "text": [
      "[Stage 6:>                                                          (0 + 2) / 2]\r"
     ]
    },
    {
     "name": "stdout",
     "output_type": "stream",
     "text": [
      "+--------+---------+--------------------+--------------+------------+----------+\n",
      "| user_id|region_id|total_trip_ledger_id|total_duration|avg_duration|trip_count|\n",
      "+--------+---------+--------------------+--------------+------------+----------+\n",
      "|35609093|      202|             3417024|          null|        null|         2|\n",
      "|35731526|      202|             3052473|          null|        null|         2|\n",
      "|36149678|      202|             5433026|          null|        null|         3|\n",
      "|35617642|      202|             1554369|          null|        null|         1|\n",
      "|36361723|      202|             9864688|          null|        null|         6|\n",
      "|36411067|      202|             3127123|          null|        null|         2|\n",
      "|35635280|      202|            11936851|          null|        null|         7|\n",
      "|37734630|      202|            18163212|          null|        null|        11|\n",
      "|37775635|      202|            12450513|          null|        null|         7|\n",
      "|37800912|      202|             1628733|          null|        null|         1|\n",
      "|35627007|      202|             1634913|          null|        null|         1|\n",
      "|38250666|      202|             1649698|          null|        null|         1|\n",
      "|38256155|      202|             5040633|          null|        null|         3|\n",
      "|38543342|      202|            25079064|          null|        null|        13|\n",
      "|36979529|      202|             6971111|          null|        null|         4|\n",
      "|38249719|      202|            12209502|          null|        null|         7|\n",
      "|39089874|      202|             1688539|          null|        null|         1|\n",
      "|39093837|      202|             3377527|          null|        null|         2|\n",
      "|39278436|      202|             3577241|          null|        null|         2|\n",
      "|37450853|      202|             9264769|          null|        null|         5|\n",
      "+--------+---------+--------------------+--------------+------------+----------+\n",
      "only showing top 20 rows\n",
      "\n"
     ]
    },
    {
     "name": "stderr",
     "output_type": "stream",
     "text": [
      "                                                                                \r"
     ]
    }
   ],
   "source": [
    "# Group by 'user_id' and 'region_id' and perform multiple aggregations\n",
    "agg_df = df.groupBy(\"user_id\", \"region_id\").agg(\n",
    "    sum(\"trip_ledger_id\").alias(\"total_trip_ledger_id\"),\n",
    "    sum(\"DURATION\").alias(\"total_duration\"),\n",
    "    avg(\"DURATION\").alias(\"avg_duration\"),\n",
    "    count(\"trip_id\").alias(\"trip_count\")\n",
    ")\n",
    "\n",
    "# Show the result\n",
    "agg_df.show()"
   ]
  },
  {
   "cell_type": "code",
   "execution_count": 14,
   "id": "a9a5d9dd-bb34-44e9-87c6-134e87f4f636",
   "metadata": {},
   "outputs": [
    {
     "name": "stdout",
     "output_type": "stream",
     "text": [
      "+--------+------------+\n",
      "| user_id|totalregions|\n",
      "+--------+------------+\n",
      "|35530940|        2626|\n",
      "|35530825|         404|\n",
      "|35941253|         808|\n",
      "|36353218|         202|\n",
      "|36365637|         808|\n",
      "|36431716|         808|\n",
      "|35618796|        1010|\n",
      "|36674669|         404|\n",
      "|36698080|         202|\n",
      "|36703930|         606|\n",
      "|36437051|        1414|\n",
      "|37462382|         202|\n",
      "|29946205|         404|\n",
      "|37705747|         606|\n",
      "|37776273|         202|\n",
      "|37819021|        1818|\n",
      "|38001650|        1414|\n",
      "|38046939|        1616|\n",
      "|38304165|        1818|\n",
      "|38555775|         202|\n",
      "+--------+------------+\n",
      "only showing top 20 rows\n",
      "\n"
     ]
    }
   ],
   "source": [
    "# Group by 'user_id' and 'region_id' and perform multiple aggregations\n",
    "agg_df = df.groupBy(\"user_id\").agg(\n",
    "    sum(\"region_id\").alias(\"totalregions\"),\n",
    "   \n",
    ")\n",
    "\n",
    "# Show the result\n",
    "agg_df.show()"
   ]
  },
  {
   "cell_type": "code",
   "execution_count": 17,
   "id": "ee5fbeb4-c40f-41ed-a27a-5880a9ecd821",
   "metadata": {},
   "outputs": [],
   "source": [
    "# # Order by 'trip_count' in descending order and get the top user\n",
    "# top_user_df = agg_df.orderBy(\"trip_id\", ascending=False).limit(1)\n",
    "\n",
    "# # Show the result\n",
    "# top_user_df.show()"
   ]
  },
  {
   "cell_type": "code",
   "execution_count": null,
   "id": "065ab385-6018-4d3f-8e2f-bda9ff31afb6",
   "metadata": {},
   "outputs": [],
   "source": []
  }
 ],
 "metadata": {
  "kernelspec": {
   "display_name": "Python 3 (ipykernel)",
   "language": "python",
   "name": "python3"
  },
  "language_info": {
   "codemirror_mode": {
    "name": "ipython",
    "version": 3
   },
   "file_extension": ".py",
   "mimetype": "text/x-python",
   "name": "python",
   "nbconvert_exporter": "python",
   "pygments_lexer": "ipython3",
   "version": "3.8.8"
  }
 },
 "nbformat": 4,
 "nbformat_minor": 5
}
